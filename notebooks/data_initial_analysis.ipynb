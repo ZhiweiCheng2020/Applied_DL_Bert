{
 "cells": [
  {
   "cell_type": "code",
   "execution_count": null,
   "metadata": {},
   "outputs": [],
   "source": [
    "import pandas as pd\n",
    "import re"
   ]
  },
  {
   "cell_type": "code",
   "execution_count": null,
   "metadata": {},
   "outputs": [],
   "source": [
    "df = pd.read_csv(r\"../data/imgt_I_domain_1_2.csv\", index_col=0)\n",
    "print(f'There are {len(df)} protein sequences.')\n",
    "df.isnull().sum()"
   ]
  },
  {
   "cell_type": "code",
   "execution_count": null,
   "metadata": {},
   "outputs": [],
   "source": [
    "# extract protein info\n",
    "protein_type = df[\"allele_full_name\"].apply(lambda x: re.split('\\W+', x)[1:4])\n",
    "df[['code0', 'code1', 'code2']] = pd.DataFrame(list(protein_type), columns=['code0', 'code1', 'code2'])\n",
    "df = df[['code0', 'code1', 'code2', 'domain_alpha1_2_sequence']]"
   ]
  },
  {
   "cell_type": "code",
   "execution_count": null,
   "metadata": {},
   "outputs": [],
   "source": [
    "# distribution of code0\n",
    "df[\"code0\"].value_counts().plot(kind='bar',xlabel=\"protein_type\", ylabel=\"number\")"
   ]
  },
  {
   "cell_type": "code",
   "execution_count": null,
   "metadata": {},
   "outputs": [],
   "source": [
    "# distribution of code1\n",
    "df[\"code1\"].value_counts().plot(kind='bar',xlabel=\"protein_type\", ylabel=\"number\")"
   ]
  },
  {
   "cell_type": "code",
   "execution_count": null,
   "metadata": {},
   "outputs": [],
   "source": [
    "df[\"code2\"].value_counts().sort_values()"
   ]
  },
  {
   "cell_type": "code",
   "execution_count": null,
   "metadata": {},
   "outputs": [],
   "source": [
    "types_code1 = len(df[\"code1\"].unique())\n",
    "print(f'Originally, there are {types_code1} types in code1')\n",
    "occur_thr = 50 # occurence threshold\n",
    "code1_counts = df[\"code1\"].value_counts().sort_values()\n",
    "num_minority = code1_counts[code1_counts < occur_thr].sum()\n",
    "n_types = (df[\"code1\"].value_counts().sort_values() > occur_thr-1).sum()\n",
    "print(f'There are {num_minority} out of {len(df)} data points are rare cases (occurence under {occur_thr}) in code1')\n",
    "print(f'There are {n_types+1} types left in code1 after combining the rare cases')"
   ]
  },
  {
   "cell_type": "code",
   "execution_count": null,
   "metadata": {},
   "outputs": [],
   "source": [
    "types_code2 = len(df[\"code2\"].unique())\n",
    "print(f'Originally, there are {types_code2} types in code2')\n",
    "occur_thr = 20 # occurence threshold\n",
    "code2_counts = df[\"code2\"].value_counts().sort_values()\n",
    "num_minority = code2_counts[code2_counts < occur_thr].sum()\n",
    "n_types = (df[\"code2\"].value_counts().sort_values() > occur_thr-1).sum()\n",
    "print(f'There are {num_minority} out of {len(df)} data points are rare cases (occurence under {occur_thr}) in code2')\n",
    "print(f'There are {n_types+1} types left in code2 after combining the rare cases')"
   ]
  },
  {
   "cell_type": "code",
   "execution_count": null,
   "metadata": {},
   "outputs": [],
   "source": []
  }
 ],
 "metadata": {
  "kernelspec": {
   "display_name": "Python 3",
   "language": "python",
   "name": "python3"
  },
  "language_info": {
   "codemirror_mode": {
    "name": "ipython",
    "version": 3
   },
   "file_extension": ".py",
   "mimetype": "text/x-python",
   "name": "python",
   "nbconvert_exporter": "python",
   "pygments_lexer": "ipython3",
   "version": "3.9.13"
  },
  "orig_nbformat": 4,
  "vscode": {
   "interpreter": {
    "hash": "df25935b99ec2a4cd8586e5ce280559874741e178bd8136094667422bad848bb"
   }
  }
 },
 "nbformat": 4,
 "nbformat_minor": 2
}
