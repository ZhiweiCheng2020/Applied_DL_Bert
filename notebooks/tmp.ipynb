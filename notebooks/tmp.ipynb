{
 "cells": [
  {
   "cell_type": "code",
   "execution_count": 156,
   "metadata": {},
   "outputs": [],
   "source": [
    "import pandas as pd\n",
    "import re"
   ]
  },
  {
   "cell_type": "code",
   "execution_count": 157,
   "metadata": {},
   "outputs": [],
   "source": [
    "df = pd.read_csv(r\"C:\\Study_courses\\2022_winter_LMU\\Applied_DL_Bert\\Data\\protein_data.csv\", index_col=0)"
   ]
  },
  {
   "cell_type": "code",
   "execution_count": 158,
   "metadata": {},
   "outputs": [
    {
     "data": {
      "text/plain": [
       "code0                       0\n",
       "code1                       0\n",
       "code2                       0\n",
       "domain_alpha1_2_sequence    0\n",
       "dtype: int64"
      ]
     },
     "execution_count": 158,
     "metadata": {},
     "output_type": "execute_result"
    }
   ],
   "source": [
    "df.isnull().sum()"
   ]
  },
  {
   "cell_type": "code",
   "execution_count": 159,
   "metadata": {},
   "outputs": [],
   "source": [
    "# # extract protein info\n",
    "# protein_type = df[\"allele_full_name\"].apply(lambda x: re.split('\\W+', x)[1:4])\n",
    "# df[['code0', 'code1', 'code2']] = pd.DataFrame(list(protein_type), columns=['code0', 'code1', 'code2'])\n",
    "# df = df[['code0', 'code1', 'code2', 'domain_alpha1_2_sequence']]\n",
    "\n",
    "# # transform protein types to int number\n",
    "# df[\"code0\"].replace({\"A\":0, \"B\":1, \"C\":2}, inplace=True)\n",
    "# df[['code1', 'code2']] = df[['code1', 'code2']].astype(int)\n",
    "\n",
    "# # transform protein types to consecutive int number, for one-hot encoding in the next step\n",
    "# def reindex_column(df, colname):\n",
    "#     my_map = pd.DataFrame(df[colname].unique()).to_dict()[0]\n",
    "#     inv_map = {v: k for k, v in my_map.items()}\n",
    "#     df[colname].replace(inv_map, inplace=True)\n",
    "    \n",
    "# reindex_column(df, \"code1\")\n",
    "# reindex_column(df, \"code1\")"
   ]
  },
  {
   "cell_type": "code",
   "execution_count": 160,
   "metadata": {},
   "outputs": [],
   "source": [
    "def combine_minority(df, colname, threshold):\n",
    "    target = len(df[colname].unique())\n",
    "    comb_idx = df[colname].value_counts().sort_values() < threshold\n",
    "    comb_idx = list(comb_idx[comb_idx].index)\n",
    "    comb_dict = {i:target for i in comb_idx} \n",
    "    df[colname].replace(comb_dict, inplace=True)\n",
    "\n",
    "combine_minority(df, \"code1\", 50)\n",
    "combine_minority(df, \"code2\", 5)"
   ]
  },
  {
   "cell_type": "code",
   "execution_count": 137,
   "metadata": {},
   "outputs": [
    {
     "data": {
      "text/plain": [
       "<Axes: xlabel='protein_type', ylabel='number'>"
      ]
     },
     "execution_count": 137,
     "metadata": {},
     "output_type": "execute_result"
    },
    {
     "data": {
      "image/png": "[encoded data removed]",
      "text/plain": [
       "<Figure size 640x480 with 1 Axes>"
      ]
     },
     "metadata": {},
     "output_type": "display_data"
    }
   ],
   "source": [
    "df[\"code0\"].value_counts().plot(kind='bar',xlabel=\"protein_type\", ylabel=\"number\")"
   ]
  },
  {
   "cell_type": "code",
   "execution_count": 155,
   "metadata": {},
   "outputs": [
    {
     "data": {
      "text/plain": [
       "539"
      ]
     },
     "execution_count": 155,
     "metadata": {},
     "output_type": "execute_result"
    }
   ],
   "source": [
    "(df[\"code2\"].value_counts().sort_values() >5).sum()"
   ]
  },
  {
   "cell_type": "code",
   "execution_count": 153,
   "metadata": {},
   "outputs": [
    {
     "data": {
      "text/plain": [
       "(13478, 4)"
      ]
     },
     "execution_count": 153,
     "metadata": {},
     "output_type": "execute_result"
    }
   ],
   "source": [
    "df.shape"
   ]
  },
  {
   "cell_type": "code",
   "execution_count": 42,
   "metadata": {},
   "outputs": [
    {
     "name": "stdout",
     "output_type": "stream",
     "text": [
      "set()\n",
      "{'08', '07', '15', '14', '18'}\n",
      "{'02', '03', '01'}\n"
     ]
    }
   ],
   "source": [
    "df_A = df[df[\"code1\"] == \"A\"]\n",
    "code2_A = list(df_A[\"code2\"].value_counts().sort_values().index)\n",
    "\n",
    "df_B = df[df[\"code1\"] == \"B\"]\n",
    "# df_B[\"code2\"].value_counts().sort_values()\n",
    "code2_B = list(df_B[\"code2\"].value_counts().sort_values().index)\n",
    "\n",
    "df_C = df[df[\"code1\"] == \"C\"]\n",
    "code2_C = list(df_C[\"code2\"].value_counts().sort_values().index)\n",
    "\n",
    "print(set(code2_A) & set(code2_B))\n",
    "print(set(code2_C) & set(code2_B))\n",
    "print(set(code2_A) & set(code2_C))\n",
    "# code2_A"
   ]
  },
  {
   "cell_type": "code",
   "execution_count": 126,
   "metadata": {},
   "outputs": [],
   "source": []
  },
  {
   "cell_type": "code",
   "execution_count": 131,
   "metadata": {},
   "outputs": [
    {
     "data": {
      "text/plain": [
       "62"
      ]
     },
     "execution_count": 131,
     "metadata": {},
     "output_type": "execute_result"
    }
   ],
   "source": [
    "df[\"code1\"].max()"
   ]
  },
  {
   "cell_type": "code",
   "execution_count": 124,
   "metadata": {},
   "outputs": [
    {
     "data": {
      "text/plain": [
       "56     True\n",
       "15     True\n",
       "52     True\n",
       "55     True\n",
       "20     True\n",
       "      ...  \n",
       "0     False\n",
       "25    False\n",
       "2     False\n",
       "1     False\n",
       "21    False\n",
       "Name: code1, Length: 63, dtype: bool"
      ]
     },
     "execution_count": 124,
     "metadata": {},
     "output_type": "execute_result"
    }
   ],
   "source": [
    "code1_combine"
   ]
  },
  {
   "cell_type": "code",
   "execution_count": 129,
   "metadata": {},
   "outputs": [
    {
     "data": {
      "text/plain": [
       "Int64Index([56, 15, 52, 55, 20, 51, 18, 54, 53, 50, 38, 14, 13, 36, 34, 19, 16,\n",
       "            45, 39, 62, 41, 44, 40, 33,  6, 47, 37, 29, 43, 30,  4, 46, 49, 11,\n",
       "            48, 23,  8, 31,  9, 61, 10,  7, 12, 26, 24, 27, 58, 17, 59, 60, 42,\n",
       "             3, 35, 57, 32, 22,  5, 28,  0, 25,  2,  1, 21],\n",
       "           dtype='int64')"
      ]
     },
     "execution_count": 129,
     "metadata": {},
     "output_type": "execute_result"
    }
   ],
   "source": [
    "(df[\"code1\"].value_counts().sort_values() < 50).index"
   ]
  },
  {
   "cell_type": "code",
   "execution_count": 29,
   "metadata": {},
   "outputs": [
    {
     "data": {
      "text/plain": [
       "467"
      ]
     },
     "execution_count": 29,
     "metadata": {},
     "output_type": "execute_result"
    }
   ],
   "source": [
    "(df[\"code3\"].value_counts().sort_values() < 5).sum()"
   ]
  },
  {
   "cell_type": "code",
   "execution_count": 30,
   "metadata": {},
   "outputs": [
    {
     "data": {
      "text/plain": [
       "1026"
      ]
     },
     "execution_count": 30,
     "metadata": {},
     "output_type": "execute_result"
    }
   ],
   "source": [
    "len(df[\"code3\"].unique())"
   ]
  },
  {
   "cell_type": "code",
   "execution_count": 7,
   "metadata": {},
   "outputs": [
    {
     "data": {
      "text/plain": [
       "63"
      ]
     },
     "execution_count": 7,
     "metadata": {},
     "output_type": "execute_result"
    }
   ],
   "source": [
    "len(df[\"code2\"].unique())"
   ]
  },
  {
   "cell_type": "code",
   "execution_count": 8,
   "metadata": {},
   "outputs": [
    {
     "data": {
      "text/plain": [
       "1026"
      ]
     },
     "execution_count": 8,
     "metadata": {},
     "output_type": "execute_result"
    }
   ],
   "source": []
  },
  {
   "cell_type": "code",
   "execution_count": 9,
   "metadata": {},
   "outputs": [
    {
     "data": {
      "text/plain": [
       "array([ 1,  2,  3, 11, 23, 24, 25, 26, 29, 30, 31, 32, 33, 34, 36, 43, 66,\n",
       "       68, 69, 74, 80,  7,  8, 13, 14, 15, 18, 27, 35, 37, 38, 39, 40, 41,\n",
       "       42, 44, 45, 46, 47, 48, 49, 50, 51, 52, 53, 54, 55, 56, 57, 58, 59,\n",
       "       67, 73, 78, 81, 82, 83,  4,  5,  6, 12, 16, 17], dtype=int64)"
      ]
     },
     "execution_count": 9,
     "metadata": {},
     "output_type": "execute_result"
    }
   ],
   "source": [
    "df[\"code2\"].apply(int).unique()"
   ]
  },
  {
   "cell_type": "code",
   "execution_count": 10,
   "metadata": {},
   "outputs": [
    {
     "data": {
      "text/plain": [
       "['A', '01', '02']"
      ]
     },
     "execution_count": 10,
     "metadata": {},
     "output_type": "execute_result"
    }
   ],
   "source": [
    "df[['code1', 'code2', 'code3']].iloc[1,:].to_list()"
   ]
  },
  {
   "cell_type": "code",
   "execution_count": null,
   "metadata": {},
   "outputs": [],
   "source": []
  }
 ],
 "metadata": {
  "kernelspec": {
   "display_name": "Python 3",
   "language": "python",
   "name": "python3"
  },
  "language_info": {
   "codemirror_mode": {
    "name": "ipython",
    "version": 3
   },
   "file_extension": ".py",
   "mimetype": "text/x-python",
   "name": "python",
   "nbconvert_exporter": "python",
   "pygments_lexer": "ipython3",
   "version": "3.9.13"
  },
  "orig_nbformat": 4,
  "vscode": {
   "interpreter": {
    "hash": "df25935b99ec2a4cd8586e5ce280559874741e178bd8136094667422bad848bb"
   }
  }
 },
 "nbformat": 4,
 "nbformat_minor": 2
}
